{
  "cells": [
    {
      "cell_type": "markdown",
      "source": [
        "<b>\n",
        "Final Exam: Model Deployment in the Cloud"
      ],
      "metadata": {
        "id": "lmK_HWI2SyPI"
      }
    },
    {
      "cell_type": "markdown",
      "source": [
        "Name: Diego Angelo G. Espiritu\n",
        "\n",
        "Section: CPE32S1\n",
        "\n",
        "Professor: Engr. Roman Richard"
      ],
      "metadata": {
        "id": "nl8jQZr0SXfJ"
      }
    },
    {
      "cell_type": "code",
      "execution_count": null,
      "metadata": {
        "id": "ZiW6tFS-0Lvc"
      },
      "outputs": [],
      "source": [
        "import pandas as pd\n",
        "import numpy as np\n",
        "import tensorflow as tf\n",
        "import matplotlib.pyplot as plt\n",
        "import urllib.request\n",
        "from io import BytesIO\n",
        "from PIL import Image\n",
        "import os\n",
        "from tensorflow.keras.utils import image_dataset_from_directory"
      ]
    },
    {
      "cell_type": "code",
      "execution_count": null,
      "metadata": {
        "colab": {
          "base_uri": "https://localhost:8080/"
        },
        "id": "hGdrIfr_RtIL",
        "outputId": "19edaa98-a844-4687-998d-5703e77d6762"
      },
      "outputs": [
        {
          "output_type": "stream",
          "name": "stdout",
          "text": [
            "Requirement already satisfied: keras in /usr/local/lib/python3.10/dist-packages (2.15.0)\n"
          ]
        }
      ],
      "source": [
        "!pip install keras"
      ]
    },
    {
      "cell_type": "code",
      "execution_count": null,
      "metadata": {
        "colab": {
          "base_uri": "https://localhost:8080/",
          "height": 89
        },
        "id": "LeNvsZJqWFLh",
        "outputId": "2041ea4a-3d42-4099-8f04-c692e3c7a6ee"
      },
      "outputs": [
        {
          "output_type": "display_data",
          "data": {
            "text/plain": [
              "<IPython.core.display.HTML object>"
            ],
            "text/html": [
              "\n",
              "     <input type=\"file\" id=\"files-e466fd07-e099-4627-a8ae-d52179e6f077\" name=\"files[]\" multiple disabled\n",
              "        style=\"border:none\" />\n",
              "     <output id=\"result-e466fd07-e099-4627-a8ae-d52179e6f077\">\n",
              "      Upload widget is only available when the cell has been executed in the\n",
              "      current browser session. Please rerun this cell to enable.\n",
              "      </output>\n",
              "      <script>// Copyright 2017 Google LLC\n",
              "//\n",
              "// Licensed under the Apache License, Version 2.0 (the \"License\");\n",
              "// you may not use this file except in compliance with the License.\n",
              "// You may obtain a copy of the License at\n",
              "//\n",
              "//      http://www.apache.org/licenses/LICENSE-2.0\n",
              "//\n",
              "// Unless required by applicable law or agreed to in writing, software\n",
              "// distributed under the License is distributed on an \"AS IS\" BASIS,\n",
              "// WITHOUT WARRANTIES OR CONDITIONS OF ANY KIND, either express or implied.\n",
              "// See the License for the specific language governing permissions and\n",
              "// limitations under the License.\n",
              "\n",
              "/**\n",
              " * @fileoverview Helpers for google.colab Python module.\n",
              " */\n",
              "(function(scope) {\n",
              "function span(text, styleAttributes = {}) {\n",
              "  const element = document.createElement('span');\n",
              "  element.textContent = text;\n",
              "  for (const key of Object.keys(styleAttributes)) {\n",
              "    element.style[key] = styleAttributes[key];\n",
              "  }\n",
              "  return element;\n",
              "}\n",
              "\n",
              "// Max number of bytes which will be uploaded at a time.\n",
              "const MAX_PAYLOAD_SIZE = 100 * 1024;\n",
              "\n",
              "function _uploadFiles(inputId, outputId) {\n",
              "  const steps = uploadFilesStep(inputId, outputId);\n",
              "  const outputElement = document.getElementById(outputId);\n",
              "  // Cache steps on the outputElement to make it available for the next call\n",
              "  // to uploadFilesContinue from Python.\n",
              "  outputElement.steps = steps;\n",
              "\n",
              "  return _uploadFilesContinue(outputId);\n",
              "}\n",
              "\n",
              "// This is roughly an async generator (not supported in the browser yet),\n",
              "// where there are multiple asynchronous steps and the Python side is going\n",
              "// to poll for completion of each step.\n",
              "// This uses a Promise to block the python side on completion of each step,\n",
              "// then passes the result of the previous step as the input to the next step.\n",
              "function _uploadFilesContinue(outputId) {\n",
              "  const outputElement = document.getElementById(outputId);\n",
              "  const steps = outputElement.steps;\n",
              "\n",
              "  const next = steps.next(outputElement.lastPromiseValue);\n",
              "  return Promise.resolve(next.value.promise).then((value) => {\n",
              "    // Cache the last promise value to make it available to the next\n",
              "    // step of the generator.\n",
              "    outputElement.lastPromiseValue = value;\n",
              "    return next.value.response;\n",
              "  });\n",
              "}\n",
              "\n",
              "/**\n",
              " * Generator function which is called between each async step of the upload\n",
              " * process.\n",
              " * @param {string} inputId Element ID of the input file picker element.\n",
              " * @param {string} outputId Element ID of the output display.\n",
              " * @return {!Iterable<!Object>} Iterable of next steps.\n",
              " */\n",
              "function* uploadFilesStep(inputId, outputId) {\n",
              "  const inputElement = document.getElementById(inputId);\n",
              "  inputElement.disabled = false;\n",
              "\n",
              "  const outputElement = document.getElementById(outputId);\n",
              "  outputElement.innerHTML = '';\n",
              "\n",
              "  const pickedPromise = new Promise((resolve) => {\n",
              "    inputElement.addEventListener('change', (e) => {\n",
              "      resolve(e.target.files);\n",
              "    });\n",
              "  });\n",
              "\n",
              "  const cancel = document.createElement('button');\n",
              "  inputElement.parentElement.appendChild(cancel);\n",
              "  cancel.textContent = 'Cancel upload';\n",
              "  const cancelPromise = new Promise((resolve) => {\n",
              "    cancel.onclick = () => {\n",
              "      resolve(null);\n",
              "    };\n",
              "  });\n",
              "\n",
              "  // Wait for the user to pick the files.\n",
              "  const files = yield {\n",
              "    promise: Promise.race([pickedPromise, cancelPromise]),\n",
              "    response: {\n",
              "      action: 'starting',\n",
              "    }\n",
              "  };\n",
              "\n",
              "  cancel.remove();\n",
              "\n",
              "  // Disable the input element since further picks are not allowed.\n",
              "  inputElement.disabled = true;\n",
              "\n",
              "  if (!files) {\n",
              "    return {\n",
              "      response: {\n",
              "        action: 'complete',\n",
              "      }\n",
              "    };\n",
              "  }\n",
              "\n",
              "  for (const file of files) {\n",
              "    const li = document.createElement('li');\n",
              "    li.append(span(file.name, {fontWeight: 'bold'}));\n",
              "    li.append(span(\n",
              "        `(${file.type || 'n/a'}) - ${file.size} bytes, ` +\n",
              "        `last modified: ${\n",
              "            file.lastModifiedDate ? file.lastModifiedDate.toLocaleDateString() :\n",
              "                                    'n/a'} - `));\n",
              "    const percent = span('0% done');\n",
              "    li.appendChild(percent);\n",
              "\n",
              "    outputElement.appendChild(li);\n",
              "\n",
              "    const fileDataPromise = new Promise((resolve) => {\n",
              "      const reader = new FileReader();\n",
              "      reader.onload = (e) => {\n",
              "        resolve(e.target.result);\n",
              "      };\n",
              "      reader.readAsArrayBuffer(file);\n",
              "    });\n",
              "    // Wait for the data to be ready.\n",
              "    let fileData = yield {\n",
              "      promise: fileDataPromise,\n",
              "      response: {\n",
              "        action: 'continue',\n",
              "      }\n",
              "    };\n",
              "\n",
              "    // Use a chunked sending to avoid message size limits. See b/62115660.\n",
              "    let position = 0;\n",
              "    do {\n",
              "      const length = Math.min(fileData.byteLength - position, MAX_PAYLOAD_SIZE);\n",
              "      const chunk = new Uint8Array(fileData, position, length);\n",
              "      position += length;\n",
              "\n",
              "      const base64 = btoa(String.fromCharCode.apply(null, chunk));\n",
              "      yield {\n",
              "        response: {\n",
              "          action: 'append',\n",
              "          file: file.name,\n",
              "          data: base64,\n",
              "        },\n",
              "      };\n",
              "\n",
              "      let percentDone = fileData.byteLength === 0 ?\n",
              "          100 :\n",
              "          Math.round((position / fileData.byteLength) * 100);\n",
              "      percent.textContent = `${percentDone}% done`;\n",
              "\n",
              "    } while (position < fileData.byteLength);\n",
              "  }\n",
              "\n",
              "  // All done.\n",
              "  yield {\n",
              "    response: {\n",
              "      action: 'complete',\n",
              "    }\n",
              "  };\n",
              "}\n",
              "\n",
              "scope.google = scope.google || {};\n",
              "scope.google.colab = scope.google.colab || {};\n",
              "scope.google.colab._files = {\n",
              "  _uploadFiles,\n",
              "  _uploadFilesContinue,\n",
              "};\n",
              "})(self);\n",
              "</script> "
            ]
          },
          "metadata": {}
        },
        {
          "output_type": "stream",
          "name": "stdout",
          "text": [
            "Saving kagglee.json to kagglee.json\n"
          ]
        },
        {
          "output_type": "execute_result",
          "data": {
            "text/plain": [
              "{'kagglee.json': b'{\"username\":\"andrejhonanot\",\"key\":\"67cab683d244e37f6da7cd62838f9f94\"}'}"
            ]
          },
          "metadata": {},
          "execution_count": 7
        }
      ],
      "source": [
        "from google.colab import files\n",
        "files.upload()  # This will prompt you to upload the kaggle.json file\n"
      ]
    },
    {
      "cell_type": "code",
      "execution_count": null,
      "metadata": {
        "id": "Z_iIpLLMZzfT"
      },
      "outputs": [],
      "source": [
        "!mkdir -p ~/.kaggle\n",
        "!cp kagglee.json ~/.kaggle/\n",
        "!chmod 600 ~/.kaggle/kagglee.json"
      ]
    },
    {
      "cell_type": "code",
      "execution_count": null,
      "metadata": {
        "colab": {
          "base_uri": "https://localhost:8080/"
        },
        "id": "PYPLO3mzZ-ZF",
        "outputId": "f38b8ce8-f0f8-4041-f923-ba7c73cfb425"
      },
      "outputs": [
        {
          "output_type": "stream",
          "name": "stdout",
          "text": [
            "Warning: Looks like you're using an outdated API Version, please consider updating (server 1.6.14 / client 1.6.12)\n",
            "Dataset URL: https://www.kaggle.com/datasets/mrtontrnok/5-vehichles-for-multicategory-classification\n",
            "License(s): CC0-1.0\n",
            "Downloading 5-vehichles-for-multicategory-classification.zip to /content\n",
            "100% 464M/465M [00:06<00:00, 85.1MB/s]\n",
            "100% 465M/465M [00:06<00:00, 77.6MB/s]\n"
          ]
        }
      ],
      "source": [
        "!kaggle datasets download -d mrtontrnok/5-vehichles-for-multicategory-classification"
      ]
    },
    {
      "cell_type": "code",
      "execution_count": null,
      "metadata": {
        "colab": {
          "base_uri": "https://localhost:8080/"
        },
        "id": "qEUstlChrjQ0",
        "outputId": "4ab9e8e3-edec-4ea3-c076-bc9536e58f1f"
      },
      "outputs": [
        {
          "output_type": "execute_result",
          "data": {
            "text/plain": [
              "['dataset']"
            ]
          },
          "metadata": {},
          "execution_count": 12
        }
      ],
      "source": [
        "import zipfile\n",
        "import os\n",
        "\n",
        "# Create a directory to unzip the dataset\n",
        "!mkdir -p /content/extracted\n",
        "\n",
        "# Unzip the dataset\n",
        "with zipfile.ZipFile('5-vehichles-for-multicategory-classification.zip', 'r') as zip_ref:\n",
        "    zip_ref.extractall('/content/extracted')\n",
        "\n",
        "# Check the extracted files\n",
        "os.listdir('/content/extracted')\n"
      ]
    },
    {
      "cell_type": "code",
      "execution_count": null,
      "metadata": {
        "colab": {
          "base_uri": "https://localhost:8080/"
        },
        "id": "3sXVmOt5WtF5",
        "outputId": "056e4747-7dd3-4197-d8ba-0f1972ba931f"
      },
      "outputs": [
        {
          "output_type": "stream",
          "name": "stdout",
          "text": [
            "Requirement already satisfied: kaggle in /usr/local/lib/python3.10/dist-packages (1.6.12)\n",
            "Requirement already satisfied: six>=1.10 in /usr/local/lib/python3.10/dist-packages (from kaggle) (1.16.0)\n",
            "Requirement already satisfied: certifi>=2023.7.22 in /usr/local/lib/python3.10/dist-packages (from kaggle) (2024.2.2)\n",
            "Requirement already satisfied: python-dateutil in /usr/local/lib/python3.10/dist-packages (from kaggle) (2.8.2)\n",
            "Requirement already satisfied: requests in /usr/local/lib/python3.10/dist-packages (from kaggle) (2.31.0)\n",
            "Requirement already satisfied: tqdm in /usr/local/lib/python3.10/dist-packages (from kaggle) (4.66.4)\n",
            "Requirement already satisfied: python-slugify in /usr/local/lib/python3.10/dist-packages (from kaggle) (8.0.4)\n",
            "Requirement already satisfied: urllib3 in /usr/local/lib/python3.10/dist-packages (from kaggle) (2.0.7)\n",
            "Requirement already satisfied: bleach in /usr/local/lib/python3.10/dist-packages (from kaggle) (6.1.0)\n",
            "Requirement already satisfied: webencodings in /usr/local/lib/python3.10/dist-packages (from bleach->kaggle) (0.5.1)\n",
            "Requirement already satisfied: text-unidecode>=1.3 in /usr/local/lib/python3.10/dist-packages (from python-slugify->kaggle) (1.3)\n",
            "Requirement already satisfied: charset-normalizer<4,>=2 in /usr/local/lib/python3.10/dist-packages (from requests->kaggle) (3.3.2)\n",
            "Requirement already satisfied: idna<4,>=2.5 in /usr/local/lib/python3.10/dist-packages (from requests->kaggle) (3.7)\n"
          ]
        }
      ],
      "source": [
        "!pip install kaggle"
      ]
    },
    {
      "cell_type": "code",
      "execution_count": null,
      "metadata": {
        "id": "vJajoqutQ0wy"
      },
      "outputs": [],
      "source": [
        "data_dir = '/kaggle/input/5-vehichles-for-multicategory-classification/dataset'\n",
        "train_dir = '/content/extracted/dataset/train'\n",
        "validation_dir = '/content/extracted/dataset/validation'\n",
        "test_dir = '/content/extracted/dataset/test'"
      ]
    },
    {
      "cell_type": "code",
      "execution_count": null,
      "metadata": {
        "id": "PcHvL0oFQ9Xv"
      },
      "outputs": [],
      "source": [
        "# Set parameters\n",
        "batch_size = 32\n",
        "image_size = (192, 192)\n",
        "num_of_classes = 5\n",
        "\n",
        "learning_rate = 0.001\n",
        "optimizer = Adam(learning_rate = learning_rate)\n",
        "epoch_num = 15"
      ]
    },
    {
      "cell_type": "code",
      "execution_count": null,
      "metadata": {
        "id": "Lky4BJ1AQ9aX"
      },
      "outputs": [],
      "source": [
        "from keras.models import Sequential\n",
        "from keras.layers import Conv2D, MaxPooling2D, Add\n",
        "from keras.layers import Activation, Dropout, Flatten, Dense, BatchNormalization, GlobalAveragePooling2D, Rescaling,SeparableConv2D\n",
        "from keras.optimizers import Adam,SGD\n",
        "\n",
        "\n",
        "def create_model():\n",
        "    inputs = tf.keras.Input(shape=(192, 192, 3))\n",
        "\n",
        "    x = Conv2D(256, 3, strides=2, padding=\"same\")(inputs)\n",
        "    x = BatchNormalization()(x)\n",
        "    x = Activation(\"relu\")(x)\n",
        "\n",
        "    previous_block_activation = x  # Set aside residual\n",
        "\n",
        "    for size in [64,128,256]:\n",
        "        x = Activation(\"relu\")(x)\n",
        "        x = SeparableConv2D(size, 3, padding=\"same\")(x)\n",
        "        x = BatchNormalization()(x)\n",
        "\n",
        "        x = Activation(\"relu\")(x)\n",
        "        x = SeparableConv2D(size, 3, padding=\"same\")(x)\n",
        "        x = BatchNormalization()(x)\n",
        "\n",
        "        x = MaxPooling2D(3, strides=2, padding=\"same\")(x)\n",
        "\n",
        "        # Project residual\n",
        "        residual = Conv2D(size, 1, strides=2, padding=\"same\")(\n",
        "            previous_block_activation\n",
        "        )\n",
        "        x = tf.keras.layers.Add()([x, residual])  # Add back residual\n",
        "        previous_block_activation = x  # Set aside next residual\n",
        "\n",
        "    x = SeparableConv2D(256, 3, padding=\"same\")(x)\n",
        "    x = BatchNormalization()(x)\n",
        "    x = Activation(\"relu\")(x)\n",
        "\n",
        "    x = GlobalAveragePooling2D()(x)\n",
        "\n",
        "    x = Dropout(0.5)(x)\n",
        "\n",
        "    outputs = Dense(5, activation=\"softmax\")(x)\n",
        "    return tf.keras.Model(inputs, outputs)"
      ]
    },
    {
      "cell_type": "code",
      "execution_count": null,
      "metadata": {
        "id": "J_5E-CmeQ9c-"
      },
      "outputs": [],
      "source": [
        "model = create_model()\n",
        "\n",
        "model.compile(loss='categorical_crossentropy',\n",
        "              optimizer=optimizer,\n",
        "              metrics=['accuracy'])"
      ]
    },
    {
      "cell_type": "code",
      "execution_count": null,
      "metadata": {
        "colab": {
          "base_uri": "https://localhost:8080/"
        },
        "id": "OBJVe9iQQ9fm",
        "outputId": "84c21c17-f7b4-4353-815f-dc0f35d97213"
      },
      "outputs": [
        {
          "output_type": "stream",
          "name": "stdout",
          "text": [
            "Model: \"model\"\n",
            "__________________________________________________________________________________________________\n",
            " Layer (type)                Output Shape                 Param #   Connected to                  \n",
            "==================================================================================================\n",
            " input_1 (InputLayer)        [(None, 192, 192, 3)]        0         []                            \n",
            "                                                                                                  \n",
            " conv2d (Conv2D)             (None, 96, 96, 256)          7168      ['input_1[0][0]']             \n",
            "                                                                                                  \n",
            " batch_normalization (Batch  (None, 96, 96, 256)          1024      ['conv2d[0][0]']              \n",
            " Normalization)                                                                                   \n",
            "                                                                                                  \n",
            " activation (Activation)     (None, 96, 96, 256)          0         ['batch_normalization[0][0]'] \n",
            "                                                                                                  \n",
            " activation_1 (Activation)   (None, 96, 96, 256)          0         ['activation[0][0]']          \n",
            "                                                                                                  \n",
            " separable_conv2d (Separabl  (None, 96, 96, 64)           18752     ['activation_1[0][0]']        \n",
            " eConv2D)                                                                                         \n",
            "                                                                                                  \n",
            " batch_normalization_1 (Bat  (None, 96, 96, 64)           256       ['separable_conv2d[0][0]']    \n",
            " chNormalization)                                                                                 \n",
            "                                                                                                  \n",
            " activation_2 (Activation)   (None, 96, 96, 64)           0         ['batch_normalization_1[0][0]'\n",
            "                                                                    ]                             \n",
            "                                                                                                  \n",
            " separable_conv2d_1 (Separa  (None, 96, 96, 64)           4736      ['activation_2[0][0]']        \n",
            " bleConv2D)                                                                                       \n",
            "                                                                                                  \n",
            " batch_normalization_2 (Bat  (None, 96, 96, 64)           256       ['separable_conv2d_1[0][0]']  \n",
            " chNormalization)                                                                                 \n",
            "                                                                                                  \n",
            " max_pooling2d (MaxPooling2  (None, 48, 48, 64)           0         ['batch_normalization_2[0][0]'\n",
            " D)                                                                 ]                             \n",
            "                                                                                                  \n",
            " conv2d_1 (Conv2D)           (None, 48, 48, 64)           16448     ['activation[0][0]']          \n",
            "                                                                                                  \n",
            " add (Add)                   (None, 48, 48, 64)           0         ['max_pooling2d[0][0]',       \n",
            "                                                                     'conv2d_1[0][0]']            \n",
            "                                                                                                  \n",
            " activation_3 (Activation)   (None, 48, 48, 64)           0         ['add[0][0]']                 \n",
            "                                                                                                  \n",
            " separable_conv2d_2 (Separa  (None, 48, 48, 128)          8896      ['activation_3[0][0]']        \n",
            " bleConv2D)                                                                                       \n",
            "                                                                                                  \n",
            " batch_normalization_3 (Bat  (None, 48, 48, 128)          512       ['separable_conv2d_2[0][0]']  \n",
            " chNormalization)                                                                                 \n",
            "                                                                                                  \n",
            " activation_4 (Activation)   (None, 48, 48, 128)          0         ['batch_normalization_3[0][0]'\n",
            "                                                                    ]                             \n",
            "                                                                                                  \n",
            " separable_conv2d_3 (Separa  (None, 48, 48, 128)          17664     ['activation_4[0][0]']        \n",
            " bleConv2D)                                                                                       \n",
            "                                                                                                  \n",
            " batch_normalization_4 (Bat  (None, 48, 48, 128)          512       ['separable_conv2d_3[0][0]']  \n",
            " chNormalization)                                                                                 \n",
            "                                                                                                  \n",
            " max_pooling2d_1 (MaxPoolin  (None, 24, 24, 128)          0         ['batch_normalization_4[0][0]'\n",
            " g2D)                                                               ]                             \n",
            "                                                                                                  \n",
            " conv2d_2 (Conv2D)           (None, 24, 24, 128)          8320      ['add[0][0]']                 \n",
            "                                                                                                  \n",
            " add_1 (Add)                 (None, 24, 24, 128)          0         ['max_pooling2d_1[0][0]',     \n",
            "                                                                     'conv2d_2[0][0]']            \n",
            "                                                                                                  \n",
            " activation_5 (Activation)   (None, 24, 24, 128)          0         ['add_1[0][0]']               \n",
            "                                                                                                  \n",
            " separable_conv2d_4 (Separa  (None, 24, 24, 256)          34176     ['activation_5[0][0]']        \n",
            " bleConv2D)                                                                                       \n",
            "                                                                                                  \n",
            " batch_normalization_5 (Bat  (None, 24, 24, 256)          1024      ['separable_conv2d_4[0][0]']  \n",
            " chNormalization)                                                                                 \n",
            "                                                                                                  \n",
            " activation_6 (Activation)   (None, 24, 24, 256)          0         ['batch_normalization_5[0][0]'\n",
            "                                                                    ]                             \n",
            "                                                                                                  \n",
            " separable_conv2d_5 (Separa  (None, 24, 24, 256)          68096     ['activation_6[0][0]']        \n",
            " bleConv2D)                                                                                       \n",
            "                                                                                                  \n",
            " batch_normalization_6 (Bat  (None, 24, 24, 256)          1024      ['separable_conv2d_5[0][0]']  \n",
            " chNormalization)                                                                                 \n",
            "                                                                                                  \n",
            " max_pooling2d_2 (MaxPoolin  (None, 12, 12, 256)          0         ['batch_normalization_6[0][0]'\n",
            " g2D)                                                               ]                             \n",
            "                                                                                                  \n",
            " conv2d_3 (Conv2D)           (None, 12, 12, 256)          33024     ['add_1[0][0]']               \n",
            "                                                                                                  \n",
            " add_2 (Add)                 (None, 12, 12, 256)          0         ['max_pooling2d_2[0][0]',     \n",
            "                                                                     'conv2d_3[0][0]']            \n",
            "                                                                                                  \n",
            " separable_conv2d_6 (Separa  (None, 12, 12, 256)          68096     ['add_2[0][0]']               \n",
            " bleConv2D)                                                                                       \n",
            "                                                                                                  \n",
            " batch_normalization_7 (Bat  (None, 12, 12, 256)          1024      ['separable_conv2d_6[0][0]']  \n",
            " chNormalization)                                                                                 \n",
            "                                                                                                  \n",
            " activation_7 (Activation)   (None, 12, 12, 256)          0         ['batch_normalization_7[0][0]'\n",
            "                                                                    ]                             \n",
            "                                                                                                  \n",
            " global_average_pooling2d (  (None, 256)                  0         ['activation_7[0][0]']        \n",
            " GlobalAveragePooling2D)                                                                          \n",
            "                                                                                                  \n",
            " dropout (Dropout)           (None, 256)                  0         ['global_average_pooling2d[0][\n",
            "                                                                    0]']                          \n",
            "                                                                                                  \n",
            " dense (Dense)               (None, 5)                    1285      ['dropout[0][0]']             \n",
            "                                                                                                  \n",
            "==================================================================================================\n",
            "Total params: 292293 (1.12 MB)\n",
            "Trainable params: 289477 (1.10 MB)\n",
            "Non-trainable params: 2816 (11.00 KB)\n",
            "__________________________________________________________________________________________________\n"
          ]
        }
      ],
      "source": [
        "model.summary()"
      ]
    },
    {
      "cell_type": "code",
      "execution_count": null,
      "metadata": {
        "id": "niaO2nClQ9kp"
      },
      "outputs": [],
      "source": [
        "from tensorflow.keras.preprocessing.image import ImageDataGenerator\n",
        "seed = 43\n",
        "shuffle = True\n",
        "\n",
        "\n",
        "train_data_generator = ImageDataGenerator(\n",
        "    rescale=1./255,\n",
        "    zoom_range=0.2,\n",
        "    horizontal_flip=True,\n",
        "    fill_mode='nearest'\n",
        ")\n",
        "\n",
        "val_data_generator = ImageDataGenerator(\n",
        "    rescale=1./255  #\n",
        ")"
      ]
    },
    {
      "cell_type": "code",
      "execution_count": null,
      "metadata": {
        "colab": {
          "base_uri": "https://localhost:8080/"
        },
        "id": "MgN3V12eQ9nT",
        "outputId": "1cc2c310-1464-4e21-8a2d-4c74e1dd2555"
      },
      "outputs": [
        {
          "output_type": "stream",
          "name": "stdout",
          "text": [
            "Found 5418 images belonging to 5 classes.\n",
            "Found 709 images belonging to 5 classes.\n",
            "Found 708 images belonging to 5 classes.\n"
          ]
        }
      ],
      "source": [
        "# Training data generator\n",
        "train_dataset = train_data_generator.flow_from_directory(\n",
        "    train_dir,  # Path to the training data directory\n",
        "    batch_size=batch_size,\n",
        "    target_size=image_size,\n",
        "    class_mode = 'categorical',\n",
        "    shuffle=shuffle,\n",
        "    seed=seed\n",
        ")\n",
        "\n",
        "\n",
        "validation_dataset = val_data_generator.flow_from_directory(\n",
        "    validation_dir,\n",
        "    batch_size=batch_size,\n",
        "    target_size=image_size,\n",
        "    class_mode = 'categorical',\n",
        "    shuffle=shuffle,\n",
        "    seed=seed\n",
        ")\n",
        "\n",
        "\n",
        "test_dataset = val_data_generator.flow_from_directory(\n",
        "    test_dir,\n",
        "    batch_size=batch_size,\n",
        "    target_size=image_size,\n",
        "    class_mode = 'categorical',\n",
        "    shuffle=shuffle,\n",
        "    seed=seed\n",
        ")"
      ]
    },
    {
      "cell_type": "code",
      "execution_count": null,
      "metadata": {
        "id": "mbc38zzUQ9py"
      },
      "outputs": [],
      "source": [
        "def scheduler(epoch, lr):\n",
        "    if epoch == 15:\n",
        "        return lr * 0.1\n",
        "    elif epoch > 15:\n",
        "        return lr * tf.math.exp(-0.1)\n",
        "    else:\n",
        "        return lr"
      ]
    },
    {
      "cell_type": "code",
      "execution_count": null,
      "metadata": {
        "id": "KhV8XeisQ9sJ"
      },
      "outputs": [],
      "source": [
        "from tensorflow.keras.callbacks import EarlyStopping\n",
        "from tensorflow.keras.callbacks import ModelCheckpoint\n",
        "\n",
        "callbacks = [\n",
        "         EarlyStopping(patience=7, restore_best_weights=True),\n",
        "        ModelCheckpoint(\"Best_Model.h5\", save_best_only=True),\n",
        "        tf.keras.callbacks.LearningRateScheduler(scheduler),\n",
        "]"
      ]
    },
    {
      "cell_type": "code",
      "execution_count": null,
      "metadata": {
        "colab": {
          "base_uri": "https://localhost:8080/"
        },
        "id": "Cb5Ngc-cQ9u8",
        "outputId": "225fffea-7f36-4757-8eef-32f5ab7fa333"
      },
      "outputs": [
        {
          "metadata": {
            "tags": null
          },
          "name": "stdout",
          "output_type": "stream",
          "text": [
            "Epoch 1/15\n",
            "169/169 [==============================] - 1284s 8s/step - loss: 1.2473 - accuracy: 0.4955 - val_loss: 1.7245 - val_accuracy: 0.2585 - lr: 0.0010\n",
            "Epoch 2/15\n"
          ]
        },
        {
          "metadata": {
            "tags": null
          },
          "name": "stderr",
          "output_type": "stream",
          "text": [
            "/usr/local/lib/python3.10/dist-packages/keras/src/engine/training.py:3103: UserWarning: You are saving your model as an HDF5 file via `model.save()`. This file format is considered legacy. We recommend using instead the native Keras format, e.g. `model.save('my_model.keras')`.\n",
            "  saving_api.save_model(\n"
          ]
        },
        {
          "output_type": "stream",
          "name": "stdout",
          "text": [
            "169/169 [==============================] - 1331s 8s/step - loss: 0.9778 - accuracy: 0.6240 - val_loss: 2.2310 - val_accuracy: 0.2727 - lr: 0.0010\n",
            "Epoch 3/15\n",
            "169/169 [==============================] - 1298s 8s/step - loss: 0.8712 - accuracy: 0.6619 - val_loss: 1.5805 - val_accuracy: 0.3594 - lr: 0.0010\n",
            "Epoch 4/15\n",
            "169/169 [==============================] - 1295s 8s/step - loss: 0.8382 - accuracy: 0.6786 - val_loss: 0.8615 - val_accuracy: 0.6747 - lr: 0.0010\n",
            "Epoch 5/15\n",
            "169/169 [==============================] - 1259s 7s/step - loss: 0.7690 - accuracy: 0.7118 - val_loss: 2.0751 - val_accuracy: 0.5085 - lr: 0.0010\n",
            "Epoch 6/15\n",
            "169/169 [==============================] - 1298s 8s/step - loss: 0.7338 - accuracy: 0.7239 - val_loss: 1.4464 - val_accuracy: 0.5355 - lr: 0.0010\n",
            "Epoch 7/15\n",
            "169/169 [==============================] - 1301s 8s/step - loss: 0.6851 - accuracy: 0.7466 - val_loss: 1.7841 - val_accuracy: 0.5199 - lr: 0.0010\n",
            "Epoch 8/15\n",
            "169/169 [==============================] - 1296s 8s/step - loss: 0.6581 - accuracy: 0.7564 - val_loss: 2.2069 - val_accuracy: 0.3509 - lr: 0.0010\n",
            "Epoch 9/15\n",
            "169/169 [==============================] - 1298s 8s/step - loss: 0.6206 - accuracy: 0.7677 - val_loss: 0.7074 - val_accuracy: 0.7557 - lr: 0.0010\n",
            "Epoch 10/15\n",
            "169/169 [==============================] - 1298s 8s/step - loss: 0.6151 - accuracy: 0.7683 - val_loss: 0.6548 - val_accuracy: 0.7727 - lr: 0.0010\n",
            "Epoch 11/15\n",
            "169/169 [==============================] - 1265s 7s/step - loss: 0.5928 - accuracy: 0.7766 - val_loss: 1.5547 - val_accuracy: 0.5668 - lr: 0.0010\n",
            "Epoch 12/15\n",
            "169/169 [==============================] - 1314s 8s/step - loss: 0.5586 - accuracy: 0.7954 - val_loss: 1.3461 - val_accuracy: 0.5128 - lr: 0.0010\n",
            "Epoch 13/15\n",
            "169/169 [==============================] - 1293s 8s/step - loss: 0.5571 - accuracy: 0.7941 - val_loss: 0.5420 - val_accuracy: 0.8040 - lr: 0.0010\n",
            "Epoch 14/15\n",
            "169/169 [==============================] - 1284s 8s/step - loss: 0.5326 - accuracy: 0.8015 - val_loss: 1.0248 - val_accuracy: 0.6705 - lr: 0.0010\n",
            "Epoch 15/15\n",
            "169/169 [==============================] - 1305s 8s/step - loss: 0.5162 - accuracy: 0.8115 - val_loss: 0.5331 - val_accuracy: 0.8097 - lr: 0.0010\n"
          ]
        }
      ],
      "source": [
        "history = model.fit(train_dataset,\n",
        "                       epochs=epoch_num,\n",
        "                       steps_per_epoch=train_dataset.samples // batch_size,\n",
        "                       validation_data=validation_dataset,\n",
        "                       validation_steps=validation_dataset.samples // batch_size,\n",
        "                       callbacks = callbacks)"
      ]
    },
    {
      "cell_type": "code",
      "source": [
        "Best_Model = tf.keras.models.load_model('Best_Model.h5')"
      ],
      "metadata": {
        "colab": {
          "base_uri": "https://localhost:8080/",
          "height": 287
        },
        "id": "H2vI3T68rtZH",
        "outputId": "370e8422-849f-4bb4-fd85-317072f169b7"
      },
      "execution_count": null,
      "outputs": [
        {
          "output_type": "error",
          "ename": "OSError",
          "evalue": "No file or directory found at Best_Model.h5",
          "traceback": [
            "\u001b[0;31m---------------------------------------------------------------------------\u001b[0m",
            "\u001b[0;31mOSError\u001b[0m                                   Traceback (most recent call last)",
            "\u001b[0;32m<ipython-input-24-f869353b44fd>\u001b[0m in \u001b[0;36m<cell line: 1>\u001b[0;34m()\u001b[0m\n\u001b[0;32m----> 1\u001b[0;31m \u001b[0mBest_Model\u001b[0m \u001b[0;34m=\u001b[0m \u001b[0mtf\u001b[0m\u001b[0;34m.\u001b[0m\u001b[0mkeras\u001b[0m\u001b[0;34m.\u001b[0m\u001b[0mmodels\u001b[0m\u001b[0;34m.\u001b[0m\u001b[0mload_model\u001b[0m\u001b[0;34m(\u001b[0m\u001b[0;34m'Best_Model.h5'\u001b[0m\u001b[0;34m)\u001b[0m\u001b[0;34m\u001b[0m\u001b[0;34m\u001b[0m\u001b[0m\n\u001b[0m",
            "\u001b[0;32m/usr/local/lib/python3.10/dist-packages/keras/src/saving/saving_api.py\u001b[0m in \u001b[0;36mload_model\u001b[0;34m(filepath, custom_objects, compile, safe_mode, **kwargs)\u001b[0m\n\u001b[1;32m    260\u001b[0m \u001b[0;34m\u001b[0m\u001b[0m\n\u001b[1;32m    261\u001b[0m     \u001b[0;31m# Legacy case.\u001b[0m\u001b[0;34m\u001b[0m\u001b[0;34m\u001b[0m\u001b[0m\n\u001b[0;32m--> 262\u001b[0;31m     return legacy_sm_saving_lib.load_model(\n\u001b[0m\u001b[1;32m    263\u001b[0m         \u001b[0mfilepath\u001b[0m\u001b[0;34m,\u001b[0m \u001b[0mcustom_objects\u001b[0m\u001b[0;34m=\u001b[0m\u001b[0mcustom_objects\u001b[0m\u001b[0;34m,\u001b[0m \u001b[0mcompile\u001b[0m\u001b[0;34m=\u001b[0m\u001b[0mcompile\u001b[0m\u001b[0;34m,\u001b[0m \u001b[0;34m**\u001b[0m\u001b[0mkwargs\u001b[0m\u001b[0;34m\u001b[0m\u001b[0;34m\u001b[0m\u001b[0m\n\u001b[1;32m    264\u001b[0m     )\n",
            "\u001b[0;32m/usr/local/lib/python3.10/dist-packages/keras/src/utils/traceback_utils.py\u001b[0m in \u001b[0;36merror_handler\u001b[0;34m(*args, **kwargs)\u001b[0m\n\u001b[1;32m     68\u001b[0m             \u001b[0;31m# To get the full stack trace, call:\u001b[0m\u001b[0;34m\u001b[0m\u001b[0;34m\u001b[0m\u001b[0m\n\u001b[1;32m     69\u001b[0m             \u001b[0;31m# `tf.debugging.disable_traceback_filtering()`\u001b[0m\u001b[0;34m\u001b[0m\u001b[0;34m\u001b[0m\u001b[0m\n\u001b[0;32m---> 70\u001b[0;31m             \u001b[0;32mraise\u001b[0m \u001b[0me\u001b[0m\u001b[0;34m.\u001b[0m\u001b[0mwith_traceback\u001b[0m\u001b[0;34m(\u001b[0m\u001b[0mfiltered_tb\u001b[0m\u001b[0;34m)\u001b[0m \u001b[0;32mfrom\u001b[0m \u001b[0;32mNone\u001b[0m\u001b[0;34m\u001b[0m\u001b[0;34m\u001b[0m\u001b[0m\n\u001b[0m\u001b[1;32m     71\u001b[0m         \u001b[0;32mfinally\u001b[0m\u001b[0;34m:\u001b[0m\u001b[0;34m\u001b[0m\u001b[0;34m\u001b[0m\u001b[0m\n\u001b[1;32m     72\u001b[0m             \u001b[0;32mdel\u001b[0m \u001b[0mfiltered_tb\u001b[0m\u001b[0;34m\u001b[0m\u001b[0;34m\u001b[0m\u001b[0m\n",
            "\u001b[0;32m/usr/local/lib/python3.10/dist-packages/keras/src/saving/legacy/save.py\u001b[0m in \u001b[0;36mload_model\u001b[0;34m(filepath, custom_objects, compile, options)\u001b[0m\n\u001b[1;32m    232\u001b[0m                     \u001b[0;32mif\u001b[0m \u001b[0misinstance\u001b[0m\u001b[0;34m(\u001b[0m\u001b[0mfilepath_str\u001b[0m\u001b[0;34m,\u001b[0m \u001b[0mstr\u001b[0m\u001b[0;34m)\u001b[0m\u001b[0;34m:\u001b[0m\u001b[0;34m\u001b[0m\u001b[0;34m\u001b[0m\u001b[0m\n\u001b[1;32m    233\u001b[0m                         \u001b[0;32mif\u001b[0m \u001b[0;32mnot\u001b[0m \u001b[0mtf\u001b[0m\u001b[0;34m.\u001b[0m\u001b[0mio\u001b[0m\u001b[0;34m.\u001b[0m\u001b[0mgfile\u001b[0m\u001b[0;34m.\u001b[0m\u001b[0mexists\u001b[0m\u001b[0;34m(\u001b[0m\u001b[0mfilepath_str\u001b[0m\u001b[0;34m)\u001b[0m\u001b[0;34m:\u001b[0m\u001b[0;34m\u001b[0m\u001b[0;34m\u001b[0m\u001b[0m\n\u001b[0;32m--> 234\u001b[0;31m                             raise IOError(\n\u001b[0m\u001b[1;32m    235\u001b[0m                                 \u001b[0;34mf\"No file or directory found at {filepath_str}\"\u001b[0m\u001b[0;34m\u001b[0m\u001b[0;34m\u001b[0m\u001b[0m\n\u001b[1;32m    236\u001b[0m                             )\n",
            "\u001b[0;31mOSError\u001b[0m: No file or directory found at Best_Model.h5"
          ]
        }
      ]
    },
    {
      "cell_type": "code",
      "execution_count": null,
      "metadata": {
        "id": "3n2XPB7ywp0k"
      },
      "outputs": [],
      "source": [
        "print(tf.keras.__version__)\n",
        "print(keras.__version__)"
      ]
    }
  ],
  "metadata": {
    "colab": {
      "provenance": []
    },
    "kernelspec": {
      "display_name": "Python 3",
      "name": "python3"
    },
    "language_info": {
      "name": "python"
    }
  },
  "nbformat": 4,
  "nbformat_minor": 0
}